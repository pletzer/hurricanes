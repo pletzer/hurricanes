{
 "cells": [
  {
   "cell_type": "markdown",
   "id": "794ee441",
   "metadata": {},
   "source": [
    "# Like it or not: how to use likelihoods to infer parameters"
   ]
  },
  {
   "cell_type": "markdown",
   "id": "3d6cb065",
   "metadata": {},
   "source": [
    "Question: The number of named hurricanes varies from decade to decade. Is the observed difference real or random?"
   ]
  },
  {
   "cell_type": "code",
   "execution_count": 67,
   "id": "3e91b7c1",
   "metadata": {},
   "outputs": [],
   "source": [
    "import pandas as pd\n",
    "import numpy as np\n",
    "import matplotlib.pyplot as plt\n",
    "#plt.rcParams['text.usetex'] = True\n",
    "# NOAA dataset, can be downloaded from Kaggle\n",
    "df = pd.read_csv('atlantic.csv')\n",
    "# convert Date to date format\n",
    "df['Date'] = pd.to_datetime(data['Date'], format='%Y%m%d')"
   ]
  },
  {
   "cell_type": "code",
   "execution_count": 22,
   "id": "13fba1b4",
   "metadata": {},
   "outputs": [
    {
     "data": {
      "text/html": [
       "<div>\n",
       "<style scoped>\n",
       "    .dataframe tbody tr th:only-of-type {\n",
       "        vertical-align: middle;\n",
       "    }\n",
       "\n",
       "    .dataframe tbody tr th {\n",
       "        vertical-align: top;\n",
       "    }\n",
       "\n",
       "    .dataframe thead th {\n",
       "        text-align: right;\n",
       "    }\n",
       "</style>\n",
       "<table border=\"1\" class=\"dataframe\">\n",
       "  <thead>\n",
       "    <tr style=\"text-align: right;\">\n",
       "      <th></th>\n",
       "      <th>ID</th>\n",
       "      <th>Name</th>\n",
       "      <th>Date</th>\n",
       "      <th>Time</th>\n",
       "      <th>Event</th>\n",
       "      <th>Status</th>\n",
       "      <th>Latitude</th>\n",
       "      <th>Longitude</th>\n",
       "      <th>Maximum Wind</th>\n",
       "      <th>Minimum Pressure</th>\n",
       "      <th>...</th>\n",
       "      <th>Low Wind SW</th>\n",
       "      <th>Low Wind NW</th>\n",
       "      <th>Moderate Wind NE</th>\n",
       "      <th>Moderate Wind SE</th>\n",
       "      <th>Moderate Wind SW</th>\n",
       "      <th>Moderate Wind NW</th>\n",
       "      <th>High Wind NE</th>\n",
       "      <th>High Wind SE</th>\n",
       "      <th>High Wind SW</th>\n",
       "      <th>High Wind NW</th>\n",
       "    </tr>\n",
       "  </thead>\n",
       "  <tbody>\n",
       "    <tr>\n",
       "      <th>0</th>\n",
       "      <td>AL011851</td>\n",
       "      <td>UNNAMED</td>\n",
       "      <td>1851-06-25</td>\n",
       "      <td>0</td>\n",
       "      <td></td>\n",
       "      <td>HU</td>\n",
       "      <td>28.0N</td>\n",
       "      <td>94.8W</td>\n",
       "      <td>80</td>\n",
       "      <td>-999</td>\n",
       "      <td>...</td>\n",
       "      <td>-999</td>\n",
       "      <td>-999</td>\n",
       "      <td>-999</td>\n",
       "      <td>-999</td>\n",
       "      <td>-999</td>\n",
       "      <td>-999</td>\n",
       "      <td>-999</td>\n",
       "      <td>-999</td>\n",
       "      <td>-999</td>\n",
       "      <td>-999</td>\n",
       "    </tr>\n",
       "    <tr>\n",
       "      <th>1</th>\n",
       "      <td>AL011851</td>\n",
       "      <td>UNNAMED</td>\n",
       "      <td>1851-06-25</td>\n",
       "      <td>600</td>\n",
       "      <td></td>\n",
       "      <td>HU</td>\n",
       "      <td>28.0N</td>\n",
       "      <td>95.4W</td>\n",
       "      <td>80</td>\n",
       "      <td>-999</td>\n",
       "      <td>...</td>\n",
       "      <td>-999</td>\n",
       "      <td>-999</td>\n",
       "      <td>-999</td>\n",
       "      <td>-999</td>\n",
       "      <td>-999</td>\n",
       "      <td>-999</td>\n",
       "      <td>-999</td>\n",
       "      <td>-999</td>\n",
       "      <td>-999</td>\n",
       "      <td>-999</td>\n",
       "    </tr>\n",
       "    <tr>\n",
       "      <th>2</th>\n",
       "      <td>AL011851</td>\n",
       "      <td>UNNAMED</td>\n",
       "      <td>1851-06-25</td>\n",
       "      <td>1200</td>\n",
       "      <td></td>\n",
       "      <td>HU</td>\n",
       "      <td>28.0N</td>\n",
       "      <td>96.0W</td>\n",
       "      <td>80</td>\n",
       "      <td>-999</td>\n",
       "      <td>...</td>\n",
       "      <td>-999</td>\n",
       "      <td>-999</td>\n",
       "      <td>-999</td>\n",
       "      <td>-999</td>\n",
       "      <td>-999</td>\n",
       "      <td>-999</td>\n",
       "      <td>-999</td>\n",
       "      <td>-999</td>\n",
       "      <td>-999</td>\n",
       "      <td>-999</td>\n",
       "    </tr>\n",
       "    <tr>\n",
       "      <th>3</th>\n",
       "      <td>AL011851</td>\n",
       "      <td>UNNAMED</td>\n",
       "      <td>1851-06-25</td>\n",
       "      <td>1800</td>\n",
       "      <td></td>\n",
       "      <td>HU</td>\n",
       "      <td>28.1N</td>\n",
       "      <td>96.5W</td>\n",
       "      <td>80</td>\n",
       "      <td>-999</td>\n",
       "      <td>...</td>\n",
       "      <td>-999</td>\n",
       "      <td>-999</td>\n",
       "      <td>-999</td>\n",
       "      <td>-999</td>\n",
       "      <td>-999</td>\n",
       "      <td>-999</td>\n",
       "      <td>-999</td>\n",
       "      <td>-999</td>\n",
       "      <td>-999</td>\n",
       "      <td>-999</td>\n",
       "    </tr>\n",
       "    <tr>\n",
       "      <th>4</th>\n",
       "      <td>AL011851</td>\n",
       "      <td>UNNAMED</td>\n",
       "      <td>1851-06-25</td>\n",
       "      <td>2100</td>\n",
       "      <td>L</td>\n",
       "      <td>HU</td>\n",
       "      <td>28.2N</td>\n",
       "      <td>96.8W</td>\n",
       "      <td>80</td>\n",
       "      <td>-999</td>\n",
       "      <td>...</td>\n",
       "      <td>-999</td>\n",
       "      <td>-999</td>\n",
       "      <td>-999</td>\n",
       "      <td>-999</td>\n",
       "      <td>-999</td>\n",
       "      <td>-999</td>\n",
       "      <td>-999</td>\n",
       "      <td>-999</td>\n",
       "      <td>-999</td>\n",
       "      <td>-999</td>\n",
       "    </tr>\n",
       "  </tbody>\n",
       "</table>\n",
       "<p>5 rows × 22 columns</p>\n",
       "</div>"
      ],
      "text/plain": [
       "         ID                 Name       Date  Time Event Status Latitude  \\\n",
       "0  AL011851              UNNAMED 1851-06-25     0           HU    28.0N   \n",
       "1  AL011851              UNNAMED 1851-06-25   600           HU    28.0N   \n",
       "2  AL011851              UNNAMED 1851-06-25  1200           HU    28.0N   \n",
       "3  AL011851              UNNAMED 1851-06-25  1800           HU    28.1N   \n",
       "4  AL011851              UNNAMED 1851-06-25  2100     L     HU    28.2N   \n",
       "\n",
       "  Longitude  Maximum Wind  Minimum Pressure  ...  Low Wind SW  Low Wind NW  \\\n",
       "0     94.8W            80              -999  ...         -999         -999   \n",
       "1     95.4W            80              -999  ...         -999         -999   \n",
       "2     96.0W            80              -999  ...         -999         -999   \n",
       "3     96.5W            80              -999  ...         -999         -999   \n",
       "4     96.8W            80              -999  ...         -999         -999   \n",
       "\n",
       "   Moderate Wind NE  Moderate Wind SE  Moderate Wind SW  Moderate Wind NW  \\\n",
       "0              -999              -999              -999              -999   \n",
       "1              -999              -999              -999              -999   \n",
       "2              -999              -999              -999              -999   \n",
       "3              -999              -999              -999              -999   \n",
       "4              -999              -999              -999              -999   \n",
       "\n",
       "   High Wind NE  High Wind SE  High Wind SW  High Wind NW  \n",
       "0          -999          -999          -999          -999  \n",
       "1          -999          -999          -999          -999  \n",
       "2          -999          -999          -999          -999  \n",
       "3          -999          -999          -999          -999  \n",
       "4          -999          -999          -999          -999  \n",
       "\n",
       "[5 rows x 22 columns]"
      ]
     },
     "execution_count": 22,
     "metadata": {},
     "output_type": "execute_result"
    }
   ],
   "source": [
    "df.head()"
   ]
  },
  {
   "cell_type": "code",
   "execution_count": 56,
   "id": "44069400",
   "metadata": {},
   "outputs": [
    {
     "data": {
      "text/plain": [
       "77"
      ]
     },
     "execution_count": 56,
     "metadata": {},
     "output_type": "execute_result"
    }
   ],
   "source": [
    "# count the number of named hurricanes/TCs during the 1990s\n",
    "msk = (df['Date'] >= '1990-1-1') & (df['Date'] < '1999-12-31') & (df['Name'] != '            UNNAMED')\n",
    "df1990 = df.loc[msk]\n",
    "x1 = len(df1990['Name'].unique())\n",
    "x1"
   ]
  },
  {
   "cell_type": "code",
   "execution_count": 70,
   "id": "3ccb5cb0",
   "metadata": {},
   "outputs": [
    {
     "data": {
      "text/plain": [
       "117"
      ]
     },
     "execution_count": 70,
     "metadata": {},
     "output_type": "execute_result"
    }
   ],
   "source": [
    "# count the number of named hurricanes/TCs during the 2000s\n",
    "msk = (df['Date'] >= '2000-1-1') & (df['Date'] < '2009-12-31') & (df['Name'] != '            UNNAMED')\n",
    "df2000 = df.loc[msk]\n",
    "x2 = len(df2000['Name'].unique())\n",
    "x2"
   ]
  },
  {
   "cell_type": "markdown",
   "id": "254a2a9f",
   "metadata": {},
   "source": [
    "So we have 77 observed, named hurricances in the 1990s and 117 in the 2000s.\n",
    "\n",
    "To proceed, we build a likelihood function. The likelihoood function is proprotional to the probability of observing the data given some assumptions about the probability distribution of the problem. Since we're counting events during fixed intervals, we choose the Poisson distribution\n",
    "\n",
    "$P(X = x) = \\lambda^x e^{-\\lambda} / x!$\n",
    "\n",
    "where $X$ is the random variable (the number of events), $x$ is the observed number of events, $P(X = x)$ is the probability to observe $x$ events and $\\lambda$ is the expected number of events.\n",
    "\n",
    "Assuming that the number of hurricane is an independent from one decade to the next (?), the likelihood function is\n",
    "\n",
    "$L \\propto P(X_1 = x_1) P(X_2 = x_2) \\propto \\lambda_1^{x_1} e^{-\\lambda_1} \\lambda_2^{x_2} e^{-\\lambda_2}$\n",
    "\n",
    "Now we're not interested in $\\lambda_1, \\lambda_2$ individually but instead in $\\theta \\equiv \\lambda_2/\\lambda_1$, i.e. the ratio of the expected number of hurricanes and whether this ratio increased or not. \n",
    "\n",
    "Hence, we rewrite the likelihood $L$ as\n",
    "$L \\propto \\lambda_1^{x_1 + x_2} \\theta^{x_2} e^{-\\lambda_1 \\lambda_1}$ \n",
    "\n",
    "We can eliminate $\\lambda_1$ by setting\n",
    "$\\frac{\\partial log(L)}{\\partial \\lambda_1} = \\frac{x_1 + x_2}{\\lambda_1} - (1 + \\theta) = 0.$\n",
    "That is, we choose $\\lambda_1$ to maximise $L$ (or equivalently $log(L)$). This value is called the Maximum Likelihood Estimate (MLE in short) and it is customary to denote it with a $\\hat{}$. Here, we get\n",
    "\n",
    "$\\hat{\\lambda_1} = \\frac{x_1 + x_2}{1 + \\theta}.$\n",
    "\n",
    "Plugging this expression into the likelihood gives (profile) likelihood\n",
    "\n",
    "$L \\propto \\theta^{x_2} / (1 + \\theta)^{x_1 + x_2}$\n",
    "\n",
    "which is plotted below\n"
   ]
  },
  {
   "cell_type": "code",
   "execution_count": 79,
   "id": "553b23a0",
   "metadata": {},
   "outputs": [
    {
     "data": {
      "text/plain": [
       "Text(0.5, 0, 'theta')"
      ]
     },
     "execution_count": 79,
     "metadata": {},
     "output_type": "execute_result"
    },
    {
     "data": {
      "image/png": "[encoded data removed]",
      "text/plain": [
       "<Figure size 432x288 with 1 Axes>"
      ]
     },
     "metadata": {
      "needs_background": "light"
     },
     "output_type": "display_data"
    }
   ],
   "source": [
    "# plot the profile likelihood\n",
    "def Lfunc(theta):\n",
    "    return theta**x2/(1 + theta)**(x1 + x2)\n",
    "\n",
    "thetas = np.linspace(0, 2.5, 100)\n",
    "Ls = Lfunc(thetas)\n",
    "maxLs = np.amax(Ls)\n",
    "fig, ax = plt.subplots()\n",
    "ax.plot(thetas, Ls/maxLs)\n",
    "ax.set_xlabel('theta')"
   ]
  },
  {
   "cell_type": "markdown",
   "id": "6f5b4182",
   "metadata": {},
   "source": [
    "We find that the most likely ratio $\\theta$ is around 1.5 ($x_2/x_1 = 1.52$), not too surprising.\n",
    "\n",
    "More importantly, we can estimate the probability that $\\theta = 1$ from $L(1)/L(\\hat{\\theta}) = 0.016$."
   ]
  },
  {
   "cell_type": "code",
   "execution_count": 80,
   "id": "ed1b2e9e",
   "metadata": {},
   "outputs": [
    {
     "data": {
      "text/plain": [
       "0.015710353717836304"
      ]
     },
     "execution_count": 80,
     "metadata": {},
     "output_type": "execute_result"
    }
   ],
   "source": [
    "Lfunc(1)/Lfunc(1.52)"
   ]
  },
  {
   "cell_type": "markdown",
   "id": "8f895dd6",
   "metadata": {},
   "source": [
    "We can estimate the 95% confidence interval"
   ]
  },
  {
   "cell_type": "code",
   "execution_count": 81,
   "id": "85a3fad7",
   "metadata": {},
   "outputs": [
    {
     "name": "stdout",
     "output_type": "stream",
     "text": [
      "95% confidence interval is [1.065, 2.188]\n"
     ]
    }
   ],
   "source": [
    "from scipy.optimize import fsolve\n",
    "def f(t):\n",
    "    return Lfunc(t)/Lfunc(1.52) - 0.05\n",
    "lo = fsolve(f, [1.])[0]\n",
    "hi = fsolve(f, [1.7])[0]\n",
    "print(f'95% confidence interval is [{lo:.3f}, {hi:.3f}]')"
   ]
  },
  {
   "cell_type": "code",
   "execution_count": 82,
   "id": "cc985124",
   "metadata": {},
   "outputs": [
    {
     "data": {
      "text/plain": [
       "Text(0.5, 0, 'theta')"
      ]
     },
     "execution_count": 82,
     "metadata": {},
     "output_type": "execute_result"
    },
    {
     "data": {
      "image/png": "[encoded data removed]",
      "text/plain": [
       "<Figure size 432x288 with 1 Axes>"
      ]
     },
     "metadata": {
      "needs_background": "light"
     },
     "output_type": "display_data"
    }
   ],
   "source": [
    "fig, ax = plt.subplots()\n",
    "ax.plot(thetas, Ls/maxLs)\n",
    "ax.plot([lo, lo], [0, 1.], 'm')\n",
    "ax.plot([hi, hi], [0, 1.], 'm')\n",
    "ax.set_xlabel('theta')"
   ]
  },
  {
   "cell_type": "code",
   "execution_count": null,
   "id": "f67f9a7f",
   "metadata": {},
   "outputs": [],
   "source": []
  }
 ],
 "metadata": {
  "kernelspec": {
   "display_name": "Python 3",
   "language": "python",
   "name": "python3"
  },
  "language_info": {
   "codemirror_mode": {
    "name": "ipython",
    "version": 3
   },
   "file_extension": ".py",
   "mimetype": "text/x-python",
   "name": "python",
   "nbconvert_exporter": "python",
   "pygments_lexer": "ipython3",
   "version": "3.10.2"
  }
 },
 "nbformat": 4,
 "nbformat_minor": 5
}
