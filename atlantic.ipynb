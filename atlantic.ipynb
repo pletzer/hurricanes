{
 "cells": [
  {
   "cell_type": "markdown",
   "id": "794ee441",
   "metadata": {},
   "source": [
    "# Like it or not: how to use likelihoods for statistical inference"
   ]
  },
  {
   "cell_type": "markdown",
   "id": "3d6cb065",
   "metadata": {},
   "source": [
    "## Motivation\n",
    "\n",
    "Are tropical cyclones hurricanes becoming more prevalent in the Atlantic?"
   ]
  },
  {
   "cell_type": "code",
   "execution_count": 205,
   "id": "3e91b7c1",
   "metadata": {},
   "outputs": [],
   "source": [
    "import pandas as pd\n",
    "import numpy as np\n",
    "import matplotlib.pyplot as plt\n",
    "#plt.rcParams['text.usetex'] = True\n",
    "# NOAA dataset, can be downloaded from Kaggle https://www.kaggle.com/datasets/noaa/hurricane-database?resource=download\n",
    "df = pd.read_csv('atlantic.csv')\n",
    "# convert Date to date format\n",
    "df['Date'] = pd.to_datetime(df['Date'], format='%Y%m%d')"
   ]
  },
  {
   "cell_type": "code",
   "execution_count": 206,
   "id": "13fba1b4",
   "metadata": {},
   "outputs": [
    {
     "data": {
      "text/html": [
       "<div>\n",
       "<style scoped>\n",
       "    .dataframe tbody tr th:only-of-type {\n",
       "        vertical-align: middle;\n",
       "    }\n",
       "\n",
       "    .dataframe tbody tr th {\n",
       "        vertical-align: top;\n",
       "    }\n",
       "\n",
       "    .dataframe thead th {\n",
       "        text-align: right;\n",
       "    }\n",
       "</style>\n",
       "<table border=\"1\" class=\"dataframe\">\n",
       "  <thead>\n",
       "    <tr style=\"text-align: right;\">\n",
       "      <th></th>\n",
       "      <th>ID</th>\n",
       "      <th>Name</th>\n",
       "      <th>Date</th>\n",
       "      <th>Time</th>\n",
       "      <th>Event</th>\n",
       "      <th>Status</th>\n",
       "      <th>Latitude</th>\n",
       "      <th>Longitude</th>\n",
       "      <th>Maximum Wind</th>\n",
       "      <th>Minimum Pressure</th>\n",
       "      <th>...</th>\n",
       "      <th>Low Wind SW</th>\n",
       "      <th>Low Wind NW</th>\n",
       "      <th>Moderate Wind NE</th>\n",
       "      <th>Moderate Wind SE</th>\n",
       "      <th>Moderate Wind SW</th>\n",
       "      <th>Moderate Wind NW</th>\n",
       "      <th>High Wind NE</th>\n",
       "      <th>High Wind SE</th>\n",
       "      <th>High Wind SW</th>\n",
       "      <th>High Wind NW</th>\n",
       "    </tr>\n",
       "  </thead>\n",
       "  <tbody>\n",
       "    <tr>\n",
       "      <th>0</th>\n",
       "      <td>AL011851</td>\n",
       "      <td>UNNAMED</td>\n",
       "      <td>1851-06-25</td>\n",
       "      <td>0</td>\n",
       "      <td></td>\n",
       "      <td>HU</td>\n",
       "      <td>28.0N</td>\n",
       "      <td>94.8W</td>\n",
       "      <td>80</td>\n",
       "      <td>-999</td>\n",
       "      <td>...</td>\n",
       "      <td>-999</td>\n",
       "      <td>-999</td>\n",
       "      <td>-999</td>\n",
       "      <td>-999</td>\n",
       "      <td>-999</td>\n",
       "      <td>-999</td>\n",
       "      <td>-999</td>\n",
       "      <td>-999</td>\n",
       "      <td>-999</td>\n",
       "      <td>-999</td>\n",
       "    </tr>\n",
       "    <tr>\n",
       "      <th>1</th>\n",
       "      <td>AL011851</td>\n",
       "      <td>UNNAMED</td>\n",
       "      <td>1851-06-25</td>\n",
       "      <td>600</td>\n",
       "      <td></td>\n",
       "      <td>HU</td>\n",
       "      <td>28.0N</td>\n",
       "      <td>95.4W</td>\n",
       "      <td>80</td>\n",
       "      <td>-999</td>\n",
       "      <td>...</td>\n",
       "      <td>-999</td>\n",
       "      <td>-999</td>\n",
       "      <td>-999</td>\n",
       "      <td>-999</td>\n",
       "      <td>-999</td>\n",
       "      <td>-999</td>\n",
       "      <td>-999</td>\n",
       "      <td>-999</td>\n",
       "      <td>-999</td>\n",
       "      <td>-999</td>\n",
       "    </tr>\n",
       "    <tr>\n",
       "      <th>2</th>\n",
       "      <td>AL011851</td>\n",
       "      <td>UNNAMED</td>\n",
       "      <td>1851-06-25</td>\n",
       "      <td>1200</td>\n",
       "      <td></td>\n",
       "      <td>HU</td>\n",
       "      <td>28.0N</td>\n",
       "      <td>96.0W</td>\n",
       "      <td>80</td>\n",
       "      <td>-999</td>\n",
       "      <td>...</td>\n",
       "      <td>-999</td>\n",
       "      <td>-999</td>\n",
       "      <td>-999</td>\n",
       "      <td>-999</td>\n",
       "      <td>-999</td>\n",
       "      <td>-999</td>\n",
       "      <td>-999</td>\n",
       "      <td>-999</td>\n",
       "      <td>-999</td>\n",
       "      <td>-999</td>\n",
       "    </tr>\n",
       "    <tr>\n",
       "      <th>3</th>\n",
       "      <td>AL011851</td>\n",
       "      <td>UNNAMED</td>\n",
       "      <td>1851-06-25</td>\n",
       "      <td>1800</td>\n",
       "      <td></td>\n",
       "      <td>HU</td>\n",
       "      <td>28.1N</td>\n",
       "      <td>96.5W</td>\n",
       "      <td>80</td>\n",
       "      <td>-999</td>\n",
       "      <td>...</td>\n",
       "      <td>-999</td>\n",
       "      <td>-999</td>\n",
       "      <td>-999</td>\n",
       "      <td>-999</td>\n",
       "      <td>-999</td>\n",
       "      <td>-999</td>\n",
       "      <td>-999</td>\n",
       "      <td>-999</td>\n",
       "      <td>-999</td>\n",
       "      <td>-999</td>\n",
       "    </tr>\n",
       "    <tr>\n",
       "      <th>4</th>\n",
       "      <td>AL011851</td>\n",
       "      <td>UNNAMED</td>\n",
       "      <td>1851-06-25</td>\n",
       "      <td>2100</td>\n",
       "      <td>L</td>\n",
       "      <td>HU</td>\n",
       "      <td>28.2N</td>\n",
       "      <td>96.8W</td>\n",
       "      <td>80</td>\n",
       "      <td>-999</td>\n",
       "      <td>...</td>\n",
       "      <td>-999</td>\n",
       "      <td>-999</td>\n",
       "      <td>-999</td>\n",
       "      <td>-999</td>\n",
       "      <td>-999</td>\n",
       "      <td>-999</td>\n",
       "      <td>-999</td>\n",
       "      <td>-999</td>\n",
       "      <td>-999</td>\n",
       "      <td>-999</td>\n",
       "    </tr>\n",
       "  </tbody>\n",
       "</table>\n",
       "<p>5 rows × 22 columns</p>\n",
       "</div>"
      ],
      "text/plain": [
       "         ID                 Name       Date  Time Event Status Latitude  \\\n",
       "0  AL011851              UNNAMED 1851-06-25     0           HU    28.0N   \n",
       "1  AL011851              UNNAMED 1851-06-25   600           HU    28.0N   \n",
       "2  AL011851              UNNAMED 1851-06-25  1200           HU    28.0N   \n",
       "3  AL011851              UNNAMED 1851-06-25  1800           HU    28.1N   \n",
       "4  AL011851              UNNAMED 1851-06-25  2100     L     HU    28.2N   \n",
       "\n",
       "  Longitude  Maximum Wind  Minimum Pressure  ...  Low Wind SW  Low Wind NW  \\\n",
       "0     94.8W            80              -999  ...         -999         -999   \n",
       "1     95.4W            80              -999  ...         -999         -999   \n",
       "2     96.0W            80              -999  ...         -999         -999   \n",
       "3     96.5W            80              -999  ...         -999         -999   \n",
       "4     96.8W            80              -999  ...         -999         -999   \n",
       "\n",
       "   Moderate Wind NE  Moderate Wind SE  Moderate Wind SW  Moderate Wind NW  \\\n",
       "0              -999              -999              -999              -999   \n",
       "1              -999              -999              -999              -999   \n",
       "2              -999              -999              -999              -999   \n",
       "3              -999              -999              -999              -999   \n",
       "4              -999              -999              -999              -999   \n",
       "\n",
       "   High Wind NE  High Wind SE  High Wind SW  High Wind NW  \n",
       "0          -999          -999          -999          -999  \n",
       "1          -999          -999          -999          -999  \n",
       "2          -999          -999          -999          -999  \n",
       "3          -999          -999          -999          -999  \n",
       "4          -999          -999          -999          -999  \n",
       "\n",
       "[5 rows x 22 columns]"
      ]
     },
     "execution_count": 206,
     "metadata": {},
     "output_type": "execute_result"
    }
   ],
   "source": [
    "df.head()"
   ]
  },
  {
   "cell_type": "markdown",
   "id": "8b0267d0",
   "metadata": {},
   "source": [
    "### Number of cyclones in the 1990s"
   ]
  },
  {
   "cell_type": "code",
   "execution_count": 207,
   "id": "44069400",
   "metadata": {},
   "outputs": [
    {
     "data": {
      "text/plain": [
       "77"
      ]
     },
     "execution_count": 207,
     "metadata": {},
     "output_type": "execute_result"
    }
   ],
   "source": [
    "# count the number of named hurricanes/TCs during the 1990s, excluding the unnamed cyclones\n",
    "msk = (df['Date'] >= '1990-1-1') & (df['Date'] < '1999-12-31') & (df['Name'] != '            UNNAMED')\n",
    "df1990 = df.loc[msk]\n",
    "x1 = len(df1990['Name'].unique())\n",
    "x1"
   ]
  },
  {
   "cell_type": "markdown",
   "id": "fde3ac0f",
   "metadata": {},
   "source": [
    "### Number of cylcones in the 2000s"
   ]
  },
  {
   "cell_type": "code",
   "execution_count": 208,
   "id": "3ccb5cb0",
   "metadata": {},
   "outputs": [
    {
     "data": {
      "text/plain": [
       "117"
      ]
     },
     "execution_count": 208,
     "metadata": {},
     "output_type": "execute_result"
    }
   ],
   "source": [
    "# count the number of named hurricanes/TCs during the 2000s\n",
    "msk = (df['Date'] >= '2000-1-1') & (df['Date'] < '2009-12-31') & (df['Name'] != '            UNNAMED')\n",
    "df2000 = df.loc[msk]\n",
    "x2 = len(df2000['Name'].unique())\n",
    "x2"
   ]
  },
  {
   "cell_type": "markdown",
   "id": "254a2a9f",
   "metadata": {},
   "source": [
    "So we have 77 observed, named hurricances in the 1990s period, compared to 117 in the 2000s.\n",
    "\n",
    "To proceed, we build a likelihood function, a function that is proprotional to the probability of observing the data. We need to make assumptions about the problem. Since we're counting events during fixed intervals we'll assume that the counts follow a Poisson distribution\n",
    "\n",
    "$P(X = x) = \\lambda^x e^{-\\lambda} / x!$\n",
    "\n",
    "where $X$ is the random variable (the number of events), $x$ is the observed number of events, $P(X = x)$ is the probability of observing $x$ events and $\\lambda$ is the expected number of events.\n",
    "\n",
    "Assuming that the number of hurricane is an independent from one decade to the next (?), the likelihood function is\n",
    "\n",
    "$L \\propto P(X_1 = x_1) P(X_2 = x_2) \\propto \\lambda_1^{x_1} e^{-\\lambda_1} \\lambda_2^{x_2} e^{-\\lambda_2}$\n",
    "\n",
    "Now we're not interested in $\\lambda_1, \\lambda_2$ individually but instead in $\\theta \\equiv \\lambda_2/\\lambda_1$, i.e. the ratio of the expected number of hurricanes and whether this ratio increased or not. \n",
    "\n",
    "Hence, we rewrite the likelihood $L$ as\n",
    "$L \\propto \\lambda_1^{x_1 + x_2} \\theta^{x_2} e^{-\\lambda_1 (1 + \\theta)}$ \n",
    "\n",
    "We can eliminate $\\lambda_1$ by setting\n",
    "$\\frac{\\partial \\log(L)}{\\partial \\lambda_1} = \\frac{x_1 + x_2}{\\lambda_1} - (1 + \\theta) = 0.$\n",
    "That is, we choose $\\lambda_1$ to maximise $L$ (or equivalently $\\log(L)$). The parameter value that maximises the likelihood is called the Maximum Likelihood Estimate (MLE in short) and it is customary to denote it with a $\\hat{}$. Here, we get\n",
    "\n",
    "$\\hat{\\lambda_1} = \\frac{x_1 + x_2}{1 + \\theta}.$\n",
    "\n",
    "Plugging this expression into the likelihood gives the (profile) likelihood\n",
    "\n",
    "$L \\propto \\theta^{x_2} / (1 + \\theta)^{x_1 + x_2}$\n",
    "\n",
    "which is plotted below\n"
   ]
  },
  {
   "cell_type": "code",
   "execution_count": 210,
   "id": "553b23a0",
   "metadata": {},
   "outputs": [
    {
     "data": {
      "text/plain": [
       "Text(0.5, 0, 'theta')"
      ]
     },
     "execution_count": 210,
     "metadata": {},
     "output_type": "execute_result"
    },
    {
     "data": {
      "image/png": "[encoded data removed]",
      "text/plain": [
       "<Figure size 432x288 with 1 Axes>"
      ]
     },
     "metadata": {
      "needs_background": "light"
     },
     "output_type": "display_data"
    }
   ],
   "source": [
    "# plot the profile likelihood\n",
    "def Lfunc(theta):\n",
    "    return theta**x2/(1 + theta)**(x1 + x2)\n",
    "\n",
    "thetas = np.linspace(0, 2.5, 100)\n",
    "Ls = Lfunc(thetas)\n",
    "maxLs = np.amax(Ls)\n",
    "fig, ax = plt.subplots()\n",
    "ax.plot(thetas, Ls/maxLs)\n",
    "ax.set_ylabel('L/max L')\n",
    "ax.set_xlabel('theta')"
   ]
  },
  {
   "cell_type": "markdown",
   "id": "43a169cc",
   "metadata": {},
   "source": [
    "### What is the probability that the observed increase is due to randomness?"
   ]
  },
  {
   "cell_type": "markdown",
   "id": "6f5b4182",
   "metadata": {},
   "source": [
    "We observe that the most likely ratio $\\theta$ must be around 1.5 ($x_2/x_1 = 1.52$), which is not surprising.\n",
    "\n",
    "More importantly, we can estimate the probability that $\\theta = 1$ from $L(\\theta = 1)/L(\\hat{\\theta}) = 0.016$."
   ]
  },
  {
   "cell_type": "code",
   "execution_count": 111,
   "id": "ed1b2e9e",
   "metadata": {},
   "outputs": [
    {
     "data": {
      "text/plain": [
       "0.015710353717836304"
      ]
     },
     "execution_count": 111,
     "metadata": {},
     "output_type": "execute_result"
    }
   ],
   "source": [
    "Lfunc(1)/Lfunc(1.52)"
   ]
  },
  {
   "cell_type": "markdown",
   "id": "4b7d223f",
   "metadata": {},
   "source": [
    "### Finding the confidence interval"
   ]
  },
  {
   "cell_type": "markdown",
   "id": "8f895dd6",
   "metadata": {},
   "source": [
    "Obtain the 95% confidence interval by comparing $L(\\theta \\pm \\Delta \\theta)$ to $L(\\hat{\\theta})$."
   ]
  },
  {
   "cell_type": "code",
   "execution_count": 212,
   "id": "85a3fad7",
   "metadata": {},
   "outputs": [
    {
     "name": "stdout",
     "output_type": "stream",
     "text": [
      "95% confidence interval is [1.065, 2.188]\n"
     ]
    }
   ],
   "source": [
    "from scipy.optimize import fsolve\n",
    "def f(t):\n",
    "    return Lfunc(t)/Lfunc(1.52) - 0.05\n",
    "lo = fsolve(f, [1.])[0]  # 1 is initial guess\n",
    "hi = fsolve(f, [1.7])[0] # 1.7 is initial guess\n",
    "print(f'95% confidence interval is [{lo:.3f}, {hi:.3f}]')"
   ]
  },
  {
   "cell_type": "code",
   "execution_count": 113,
   "id": "cc985124",
   "metadata": {},
   "outputs": [
    {
     "data": {
      "text/plain": [
       "Text(0.5, 0, 'theta')"
      ]
     },
     "execution_count": 113,
     "metadata": {},
     "output_type": "execute_result"
    },
    {
     "data": {
      "image/png": "[encoded data removed]",
      "text/plain": [
       "<Figure size 432x288 with 1 Axes>"
      ]
     },
     "metadata": {
      "needs_background": "light"
     },
     "output_type": "display_data"
    }
   ],
   "source": [
    "fig, ax = plt.subplots()\n",
    "ax.plot(thetas, Ls/maxLs)\n",
    "ax.plot([lo, lo], [0, 1.], 'm')\n",
    "ax.plot([hi, hi], [0, 1.], 'm')\n",
    "ax.set_xlabel('theta')"
   ]
  },
  {
   "cell_type": "markdown",
   "id": "ab545289",
   "metadata": {},
   "source": [
    "### Working with the log-likelihood"
   ]
  },
  {
   "cell_type": "markdown",
   "id": "f67f9a7f",
   "metadata": {},
   "source": [
    "It is often more convenient to work with the $\\log$ of the likelihood\n",
    "\n",
    "$\\ell \\equiv \\log L = x_2 \\log \\theta - (x_1 + x_2) \\log (1 + \\theta)$\n",
    "\n",
    "The MLEs of $\\ell$ and $L$ are the same since $\\log$ is a monotonically increasing function. Working with $\\ell$ is easier when we taking derivatives. Specifically, \n",
    "\n",
    "$\\frac{\\partial \\ell}{\\partial \\theta} = \\frac{x_2}{\\theta} - \\frac{x_1 + x_2}{1 + \\theta}$\n",
    "\n",
    "from which we find $\\hat{\\theta} = x_2/x_1$."
   ]
  },
  {
   "cell_type": "code",
   "execution_count": 213,
   "id": "ec35228c",
   "metadata": {},
   "outputs": [
    {
     "name": "stderr",
     "output_type": "stream",
     "text": [
      "/var/folders/9n/xdj7z1gd3ps96j4nqzgkfd1h0000gq/T/ipykernel_21884/3036287718.py:3: RuntimeWarning: divide by zero encountered in log\n",
      "  return x2 * np.log(theta) - (x1 + x2) * np.log(1 + theta)\n"
     ]
    },
    {
     "data": {
      "text/plain": [
       "Text(0.5, 0, 'theta')"
      ]
     },
     "execution_count": 213,
     "metadata": {},
     "output_type": "execute_result"
    },
    {
     "data": {
      "image/png": "[encoded data removed]",
      "text/plain": [
       "<Figure size 432x288 with 1 Axes>"
      ]
     },
     "metadata": {
      "needs_background": "light"
     },
     "output_type": "display_data"
    }
   ],
   "source": [
    "def ellfunc(theta):\n",
    "    # log likelihood\n",
    "    return x2 * np.log(theta) - (x1 + x2) * np.log(1 + theta)\n",
    "\n",
    "fig, ax = plt.subplots()\n",
    "ax.plot(thetas, ellfunc(thetas) - np.log(maxLs)) # y = 0 for the log-L at the MLE\n",
    "ax.plot([lo, lo], [0, 1.], 'm')\n",
    "ax.plot([hi, hi], [0, 1.], 'm')\n",
    "ax.set_ybound(-50, 0)\n",
    "ax.set_xlabel('theta')"
   ]
  },
  {
   "cell_type": "markdown",
   "id": "083d3710",
   "metadata": {},
   "source": [
    "### Fisher information to estimate the confidence interval"
   ]
  },
  {
   "cell_type": "markdown",
   "id": "7d6c454b",
   "metadata": {},
   "source": [
    "Another way to estimate the confidence interval is based on\n",
    "\n",
    "$$\\ell(\\theta) \\approx \\ell(\\hat{\\theta}) - \\frac{1}{2} I(\\hat{\\theta}) (\\theta - \\hat{\\theta})^2$$\n",
    "\n",
    "with \n",
    "\n",
    "$$I = -\\frac{\\partial^2 \\ell}{\\partial \\theta^2} =  \\frac{x_1^3}{x_2 (x_1 + x_2)}$$\n",
    "\n",
    "in our case."
   ]
  },
  {
   "cell_type": "code",
   "execution_count": 115,
   "id": "4590f3d0",
   "metadata": {},
   "outputs": [
    {
     "data": {
      "text/plain": [
       "<matplotlib.legend.Legend at 0x108567df0>"
      ]
     },
     "execution_count": 115,
     "metadata": {},
     "output_type": "execute_result"
    },
    {
     "data": {
      "image/png": "[encoded data removed]",
      "text/plain": [
       "<Figure size 432x288 with 1 Axes>"
      ]
     },
     "metadata": {
      "needs_background": "light"
     },
     "output_type": "display_data"
    }
   ],
   "source": [
    "thetas = np.linspace(1.065, 2.188, 100)\n",
    "fig, ax = plt.subplots()\n",
    "ax.plot(thetas, ellfunc(thetas) - np.log(maxLs))\n",
    "ax.plot(thetas, - 0.5 * x1**3/(x2*(x1+x2)) *(thetas - x2/x1)**2, 'c--')\n",
    "ax.set_xlabel('theta')\n",
    "ax.legend(['exact', 'Taylor approx'])"
   ]
  },
  {
   "cell_type": "markdown",
   "id": "e3ac8e3b",
   "metadata": {},
   "source": [
    "## Has the number of cyclones increased over the years?\n",
    "\n",
    "Let \n",
    "$$\\log L = \\sum_i x_i \\log(\\lambda_i) - \\lambda_i$$\n",
    "be the log-likelihood over the years $y_i$, $\\lambda_i$ the expected count of named cyclones and $x_i$ the observed count. A possible model for $\\lambda_i$ is\n",
    "$$\\lambda_i = \\exp(\\beta_0 + \\beta_1 z_i)$$\n",
    "where $z_i = (y_i - y_{start})/100$. "
   ]
  },
  {
   "cell_type": "code",
   "execution_count": 139,
   "id": "99b73145",
   "metadata": {},
   "outputs": [
    {
     "data": {
      "text/plain": [
       "[<matplotlib.lines.Line2D at 0x1613f7f10>]"
      ]
     },
     "execution_count": 139,
     "metadata": {},
     "output_type": "execute_result"
    },
    {
     "data": {
      "image/png": "[encoded data removed]",
      "text/plain": [
       "<Figure size 432x288 with 1 Axes>"
      ]
     },
     "metadata": {
      "needs_background": "light"
     },
     "output_type": "display_data"
    }
   ],
   "source": [
    "# first look at the number of named cyclones over the years\n",
    "names = df['Name'].unique()\n",
    "min_year = df['Date'].dt.year.min()\n",
    "max_year = df['Date'].dt.year.max()\n",
    "years = np.array(range(min_year, max_year + 1))\n",
    "counts = np.zeros_like(years)\n",
    "for name in names:\n",
    "    if name == '            UNNAMED':\n",
    "        # skip\n",
    "        continue\n",
    "    df_name = df[ df['Name'] == name ]\n",
    "    name_appears_in_years = df_name['Date'].dt.year.unique()\n",
    "    for y in name_appears_in_years:\n",
    "        counts[y - min_year] += 1\n",
    "\n",
    "plt.plot(years, counts)\n",
    "\n"
   ]
  },
  {
   "cell_type": "markdown",
   "id": "8ffddc06",
   "metadata": {},
   "source": []
  },
  {
   "cell_type": "markdown",
   "id": "2b1af93d",
   "metadata": {},
   "source": [
    "We see that the custom of naming cyclones started in 1950."
   ]
  },
  {
   "cell_type": "code",
   "execution_count": 171,
   "id": "d1735702",
   "metadata": {},
   "outputs": [
    {
     "name": "stdout",
     "output_type": "stream",
     "text": [
      "1851\n"
     ]
    }
   ],
   "source": [
    "start_year = 1950\n",
    "years_s = years[start_year-min_year:]\n",
    "counts_s = counts[start_year-min_year:]\n"
   ]
  },
  {
   "cell_type": "code",
   "execution_count": 172,
   "id": "da40efd7",
   "metadata": {},
   "outputs": [
    {
     "data": {
      "text/plain": [
       "{'years': array([1950, 1951, 1952, 1953, 1954, 1955, 1956, 1957, 1958, 1959, 1960,\n",
       "        1961, 1962, 1963, 1964, 1965, 1966, 1967, 1968, 1969, 1970, 1971,\n",
       "        1972, 1973, 1974, 1975, 1976, 1977, 1978, 1979, 1980, 1981, 1982,\n",
       "        1983, 1984, 1985, 1986, 1987, 1988, 1989, 1990, 1991, 1992, 1993,\n",
       "        1994, 1995, 1996, 1997, 1998, 1999, 2000, 2001, 2002, 2003, 2004,\n",
       "        2005, 2006, 2007, 2008, 2009, 2010, 2011, 2012, 2013, 2014, 2015]),\n",
       " 'counts': array([13, 10,  6,  8,  8, 11,  7,  6, 10, 10,  6, 10,  5,  8,  9,  5, 11,\n",
       "         8,  7, 13,  7, 12,  7,  8,  7,  8,  8,  6, 11,  8, 11, 11,  5,  4,\n",
       "        12, 11,  6,  6, 11, 11, 14,  7,  6,  8,  7, 19, 13,  7, 14, 12, 14,\n",
       "        15, 12, 16, 15, 30, 10, 17, 17, 11, 21, 19, 19, 14,  9, 12])}"
      ]
     },
     "execution_count": 172,
     "metadata": {},
     "output_type": "execute_result"
    }
   ],
   "source": [
    "# create a covariate y = year and determine how the number of named cyclones increases over the years, starting from 1951\n",
    "data = {'years': years_s, 'counts': counts_s}\n",
    "data\n"
   ]
  },
  {
   "cell_type": "markdown",
   "id": "2550e010",
   "metadata": {},
   "source": [
    "Next find the parameters $\\beta_0$ and $\\beta_1$ that minimise $- log L$."
   ]
  },
  {
   "cell_type": "code",
   "execution_count": 173,
   "id": "db446766",
   "metadata": {},
   "outputs": [
    {
     "data": {
      "text/plain": [
       "      fun: -970.0236701553024\n",
       " hess_inv: <2x2 LbfgsInvHessProduct with dtype=float64>\n",
       "      jac: array([4.54747354e-05, 1.13686838e-05])\n",
       "  message: 'CONVERGENCE: REL_REDUCTION_OF_F_<=_FACTR*EPSMCH'\n",
       "     nfev: 72\n",
       "      nit: 23\n",
       "     njev: 24\n",
       "   status: 0\n",
       "  success: True\n",
       "        x: array([1.92677044, 1.24670601])"
      ]
     },
     "execution_count": 173,
     "metadata": {},
     "output_type": "execute_result"
    }
   ],
   "source": [
    "from scipy.optimize import minimize, fsolve\n",
    "ys = np.array(data['years'], np.float64)\n",
    "cs = np.array(data['counts'], np.float64)\n",
    "\n",
    "def minusLogL(params):\n",
    "    lams = np.exp(params[0] + params[1]*(ys - start_year)/100.)\n",
    "    return np.sum(-cs*np.log(lams) + lams) # negative since we minimise\n",
    "\n",
    "method = 'L-BFGS-B' # 'SLSQP' # 'TNC' # 'L-BFGS-B'\n",
    "res = minimize(minusLogL, x0=[10., 0.], method=method, tol=1.e-10, options={'maxiter': 1000})\n",
    "res\n",
    "\n"
   ]
  },
  {
   "cell_type": "markdown",
   "id": "652cac94",
   "metadata": {},
   "source": [
    "Over 100 years, we expect the named number of cyclones to increase by "
   ]
  },
  {
   "cell_type": "code",
   "execution_count": 174,
   "id": "5e85c927",
   "metadata": {},
   "outputs": [
    {
     "data": {
      "text/plain": [
       "3.4903429574618414"
      ]
     },
     "execution_count": 174,
     "metadata": {},
     "output_type": "execute_result"
    }
   ],
   "source": [
    "np.exp(1.25)"
   ]
  },
  {
   "cell_type": "code",
   "execution_count": 197,
   "id": "f2ad2ece",
   "metadata": {},
   "outputs": [
    {
     "data": {
      "text/plain": [
       "array([[ 0.00833136, -0.01933767],\n",
       "       [-0.01933767,  0.05449176]])"
      ]
     },
     "execution_count": 197,
     "metadata": {},
     "output_type": "execute_result"
    }
   ],
   "source": [
    "res.hess_inv.todense()"
   ]
  },
  {
   "cell_type": "code",
   "execution_count": 203,
   "id": "12c1e32f",
   "metadata": {},
   "outputs": [
    {
     "data": {
      "text/plain": [
       "[0.6762980902494169, 1.8171139307348705]"
      ]
     },
     "execution_count": 203,
     "metadata": {},
     "output_type": "execute_result"
    }
   ],
   "source": [
    " # 95% estimate for the beta_1 confidence interval, take the diagonal element\n",
    " se = np.sqrt(res.hess_inv.todense()[1,1])\n",
    " [res.x[1]*(1 - 1.96*se),  res.x[1]*(1 + 1.96*se)]\n",
    " \n",
    "\n"
   ]
  },
  {
   "cell_type": "code",
   "execution_count": null,
   "id": "ee9ece5b",
   "metadata": {},
   "outputs": [],
   "source": []
  }
 ],
 "metadata": {
  "kernelspec": {
   "display_name": "Python 3",
   "language": "python",
   "name": "python3"
  },
  "language_info": {
   "codemirror_mode": {
    "name": "ipython",
    "version": 3
   },
   "file_extension": ".py",
   "mimetype": "text/x-python",
   "name": "python",
   "nbconvert_exporter": "python",
   "pygments_lexer": "ipython3",
   "version": "3.10.2"
  }
 },
 "nbformat": 4,
 "nbformat_minor": 5
}
